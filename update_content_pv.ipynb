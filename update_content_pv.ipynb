{
 "cells": [
  {
   "cell_type": "code",
   "execution_count": 3,
   "id": "2481a24d",
   "metadata": {},
   "outputs": [],
   "source": [
    "import time\n",
    "import datetime\n",
    "\n",
    "import pandas as pd\n",
    "from wmfdata import hive"
   ]
  },
  {
   "cell_type": "code",
   "execution_count": 2,
   "id": "28a0e102",
   "metadata": {},
   "outputs": [],
   "source": [
    "create_table = \"\"\"\n",
    "CREATE EXTERNAL TABLE IF NOT EXISTS cchen.content_pv (\n",
    "`date` date, \n",
    "`project` string,\n",
    "`market` string,\n",
    "`country` string,\n",
    "`topic` string,\n",
    "`main_topic` string,\n",
    "`sub_topic` string,\n",
    "`pageviews` bigint\n",
    ")\n",
    "PARTITIONED BY (\n",
    "`year` int,\n",
    "`month` int,\n",
    "`day` int\n",
    ")\n",
    "STORED AS PARQUET\n",
    "\"\"\""
   ]
  },
  {
   "cell_type": "code",
   "execution_count": 3,
   "id": "ea0e89bd",
   "metadata": {},
   "outputs": [],
   "source": [
    "hive.run(create_table)"
   ]
  },
  {
   "cell_type": "markdown",
   "id": "3bb3d0e2",
   "metadata": {},
   "source": [
    "## Daily data aggregation"
   ]
  },
  {
   "cell_type": "markdown",
   "id": "302d76f7",
   "metadata": {},
   "source": [
    "use new topic table: isaacj.article_topics_outlinks_2021_07"
   ]
  },
  {
   "cell_type": "code",
   "execution_count": 13,
   "id": "6bb2b266",
   "metadata": {},
   "outputs": [],
   "source": [
    "query_daily_pv = \"\"\"\n",
    "\n",
    "WITH monthly_views AS (\n",
    "    SELECT\n",
    "        year, month, day,countries.economic_region AS market,\n",
    "        country,\n",
    "        database_code,project,page_id, page_title, \n",
    "        SUM(view_count) AS pageviews\n",
    "    FROM wmf.pageview_hourly pv\n",
    "    LEFT JOIN canonical_data.countries AS countries \n",
    "           ON pv.country_code = countries.iso_code\n",
    "    INNER JOIN canonical_data.wikis w\n",
    "           ON pv.project = CONCAT(w.language_code,'.',w.database_group)\n",
    "    WHERE year = {YEAR} and month = {MONTH} and day = {DAY}\n",
    "      AND country != 'Unknown'\n",
    "      AND agent_type != 'spider'\n",
    "      AND database_group = 'wikipedia'\n",
    "      AND namespace_id =  0 \n",
    "    GROUP BY year, month, day,economic_region,country,database_code,project, page_id, page_title\n",
    ") \n",
    "\n",
    "INSERT OVERWRITE TABLE cchen.content_pageview\n",
    "PARTITION(year = {YEAR} , month = {MONTH} , day = {DAY})\n",
    "\n",
    "SELECT\n",
    "    CONCAT(mv.year, '-', LPAD(mv.month, 2, '0'), '-',LPAD(mv.day, 2, '0')) AS `date`,\n",
    "    project,\n",
    "    market, \n",
    "    country,\n",
    "    ato.topic,\n",
    "    tc.main_topic, \n",
    "    tc.sub_topic,\n",
    "    SUM(mv.pageviews) as pageviews\n",
    "FROM monthly_views mv\n",
    "INNER JOIN isaacj.article_topics_outlinks_2021_07 ato ON (\n",
    "    mv.database_code =  ato.wiki_db\n",
    "    AND mv.page_id = ato.pageid\n",
    "    AND ato.score >= 0.5\n",
    ")\n",
    "LEFT JOIN cchen.topic_component tc ON ato.topic = tc.topic\n",
    "GROUP BY \n",
    "    CONCAT(mv.year, '-', LPAD(mv.month, 2, '0'), '-',LPAD(mv.day, 2, '0')) ,\n",
    "    project,market,\n",
    "    country, \n",
    "    ato.topic,tc.main_topic, \n",
    "      tc.sub_topic \"\"\""
   ]
  },
  {
   "cell_type": "code",
   "execution_count": 14,
   "id": "168caba0",
   "metadata": {},
   "outputs": [],
   "source": [
    "last_month = datetime.date.today().replace(day=1) - datetime.timedelta(days=1)\n",
    "last_day = last_month.day\n",
    "\n",
    "metrics_year = last_month.year\n",
    "metrics_month = last_month.month\n"
   ]
  },
  {
   "cell_type": "code",
   "execution_count": null,
   "id": "1b66f862",
   "metadata": {},
   "outputs": [],
   "source": [
    "for i in range(1,last_day+1):\n",
    "    \n",
    "    metrics_day = i\n",
    "    \n",
    "    update_daily_pv = query_daily_pv.format(\n",
    "        YEAR=metrics_year,\n",
    "        MONTH=metrics_month,\n",
    "        DAY = metrics_day)\n",
    "    \n",
    "    print(\"Running day {}...\".format(i))\n",
    "    hive.run(update_daily_pv)\n"
   ]
  },
  {
   "cell_type": "code",
   "execution_count": null,
   "id": "267c7493",
   "metadata": {},
   "outputs": [],
   "source": [
    "#update data base access\n",
    "os.system(\"hdfs dfs -chmod -R o+r /user/hive/warehouse/cchen.db/content_pageview\")"
   ]
  },
  {
   "cell_type": "code",
   "execution_count": null,
   "id": "578761f0",
   "metadata": {},
   "outputs": [],
   "source": []
  }
 ],
 "metadata": {
  "kernelspec": {
   "display_name": "Python 3",
   "language": "python",
   "name": "python3"
  },
  "language_info": {
   "codemirror_mode": {
    "name": "ipython",
    "version": 3
   },
   "file_extension": ".py",
   "mimetype": "text/x-python",
   "name": "python",
   "nbconvert_exporter": "python",
   "pygments_lexer": "ipython3",
   "version": "3.7.6"
  }
 },
 "nbformat": 4,
 "nbformat_minor": 5
}
